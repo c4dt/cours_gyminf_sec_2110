{
 "cells": [
  {
   "cell_type": "markdown",
   "id": "3a8b258a",
   "metadata": {
    "button": false,
    "id": "xc0a_EOTck4x",
    "new_sheet": false,
    "run_control": {
     "read_only": false
    }
   },
   "source": [
    "# Série 2 - Exercice 1\n",
    "\n",
    "On va faire quelques requêtes SSL vers des sites pour voir comment ils répondent.\n",
    "\n",
    "## 1. Connaissance\n",
    "\n",
    "La façon la plus simple de faire ces connexions est en fait d'utiliser le navigateur. \n",
    "Autant Mozilla Firefox, Chrome, Safari, Edge, vous permettent de montrer les certificats\n",
    "utilisés pour sécuriser le site visité.\n",
    "\n",
    "Donc pour cette première partie, visitez les sites suivants avec votre navigateur, et trouvez:\n",
    "- le nombre de certificats dans la liste\n",
    "- le certificat de base\n",
    "\n",
    "Les sites sont:\n",
    "- https://google.ch\n",
    "- https://google.com\n",
    "- https://moodle.unifr.ch/\n",
    "- https://web.fledg.re\n",
    "\n",
    "Est-ce que vous trouvez le site qui utilise Let's Encrypt?"
   ]
  },
  {
   "cell_type": "markdown",
   "id": "b40e9be9-353c-4077-b9b1-079e6921d358",
   "metadata": {},
   "source": [
    "## 2. Compréhension\n",
    "\n",
    "Utiliser le navigateur est simple, mais en utilisant Python on voit un peu plus comment ça marche.\n",
    "Dans l'exemple en bas, il y a quelques méthods qui ont été créées, tout d'abord ceux-ci:\n",
    "\n",
    "- ´get_connection_chain´ se connecte au serveur indiqué et retourne la connection et la chaîne de certificats - ATTENTION: il faut seulement donner le nom de domaine, pas l'URL complète!\n",
    "- ´dump_cert´ imprime un certificat\n",
    "- ´dump_chain´ imprime toute la chaîne\n",
    "\n",
    "Qu'est-ce que vous observez en lançant le code? Pourquoi c'est différent?\n",
    "\n",
    "Grâce au Python, nous avons aussi de l'information supplémentaire sur la connexion. Essayez les deux adresses suivantes:\n",
    "- https://xkcd.com\n",
    "- https://sssscomic.com\n"
   ]
  },
  {
   "cell_type": "code",
   "execution_count": 1,
   "id": "45919aa3",
   "metadata": {
    "button": false,
    "id": "9HYfk1lTc7Hp",
    "new_sheet": false,
    "run_control": {
     "read_only": false
    }
   },
   "outputs": [
    {
     "name": "stdout",
     "output_type": "stream",
     "text": [
      "Certificate #0\n",
      "Subject b'CN': b'*.google.ch'\n",
      "notBefore: b'20211101033446Z'\n",
      "notAfter: b'20220124033445Z'\n",
      "version:2\n",
      "sigAlg: b'sha256WithRSAEncryption'\n",
      "digest: b'8F:0A:18:53:ED:50:00:5E:A5:71:14:88:E0:74:37:A8:B0:F2:0D:FD:76:0B:6B:08:CC:FA:AC:64:64:A9:AA:C0'\n",
      "issuer: <X509Name object '/C=US/O=Google Trust Services LLC/CN=GTS CA 1C3'>\n",
      "\n",
      "Certificate #1\n",
      "Subject b'C': b'US'\n",
      "Subject b'O': b'Google Trust Services LLC'\n",
      "Subject b'CN': b'GTS CA 1C3'\n",
      "notBefore: b'20200813000042Z'\n",
      "notAfter: b'20270930000042Z'\n",
      "version:2\n",
      "sigAlg: b'sha256WithRSAEncryption'\n",
      "digest: b'23:EC:B0:3E:EC:17:33:8C:4E:33:A6:B4:8A:41:DC:3C:DA:12:28:1B:BC:3F:F8:13:C0:58:9D:6C:C2:38:75:22'\n",
      "issuer: <X509Name object '/C=US/O=Google Trust Services LLC/CN=GTS Root R1'>\n",
      "\n",
      "Certificate #2\n",
      "Subject b'C': b'US'\n",
      "Subject b'O': b'Google Trust Services LLC'\n",
      "Subject b'CN': b'GTS Root R1'\n",
      "notBefore: b'20200619000042Z'\n",
      "notAfter: b'20280128000042Z'\n",
      "version:2\n",
      "sigAlg: b'sha256WithRSAEncryption'\n",
      "digest: b'3E:E0:27:8D:F7:1F:A3:C1:25:C4:CD:48:7F:01:D7:74:69:4E:6F:C5:7E:0C:D9:4C:24:EF:D7:69:13:39:18:E5'\n",
      "issuer: <X509Name object '/C=BE/O=GlobalSign nv-sa/OU=Root CA/CN=GlobalSign Root CA'>\n",
      "\n",
      "Cipher name: TLS_AES_256_GCM_SHA384\n",
      "Cipher size: 256\n",
      "Cipher version: TLSv1.3\n",
      "Cipher list: ['TLS_AES_256_GCM_SHA384', 'TLS_CHACHA20_POLY1305_SHA256', 'TLS_AES_128_GCM_SHA256', 'ECDHE-ECDSA-AES256-GCM-SHA384', 'ECDHE-RSA-AES256-GCM-SHA384', 'DHE-RSA-AES256-GCM-SHA384', 'ECDHE-ECDSA-CHACHA20-POLY1305', 'ECDHE-RSA-CHACHA20-POLY1305', 'DHE-RSA-CHACHA20-POLY1305', 'ECDHE-ECDSA-AES128-GCM-SHA256', 'ECDHE-RSA-AES128-GCM-SHA256', 'DHE-RSA-AES128-GCM-SHA256', 'ECDHE-ECDSA-AES256-SHA384', 'ECDHE-RSA-AES256-SHA384', 'DHE-RSA-AES256-SHA256', 'ECDHE-ECDSA-AES128-SHA256', 'ECDHE-RSA-AES128-SHA256', 'DHE-RSA-AES128-SHA256', 'ECDHE-ECDSA-AES256-SHA', 'ECDHE-RSA-AES256-SHA', 'DHE-RSA-AES256-SHA', 'ECDHE-ECDSA-AES128-SHA', 'ECDHE-RSA-AES128-SHA', 'DHE-RSA-AES128-SHA', 'RSA-PSK-AES256-GCM-SHA384', 'DHE-PSK-AES256-GCM-SHA384', 'RSA-PSK-CHACHA20-POLY1305', 'DHE-PSK-CHACHA20-POLY1305', 'ECDHE-PSK-CHACHA20-POLY1305', 'AES256-GCM-SHA384', 'PSK-AES256-GCM-SHA384', 'PSK-CHACHA20-POLY1305', 'RSA-PSK-AES128-GCM-SHA256', 'DHE-PSK-AES128-GCM-SHA256', 'AES128-GCM-SHA256', 'PSK-AES128-GCM-SHA256', 'AES256-SHA256', 'AES128-SHA256', 'ECDHE-PSK-AES256-CBC-SHA384', 'ECDHE-PSK-AES256-CBC-SHA', 'SRP-RSA-AES-256-CBC-SHA', 'SRP-AES-256-CBC-SHA', 'RSA-PSK-AES256-CBC-SHA384', 'DHE-PSK-AES256-CBC-SHA384', 'RSA-PSK-AES256-CBC-SHA', 'DHE-PSK-AES256-CBC-SHA', 'AES256-SHA', 'PSK-AES256-CBC-SHA384', 'PSK-AES256-CBC-SHA', 'ECDHE-PSK-AES128-CBC-SHA256', 'ECDHE-PSK-AES128-CBC-SHA', 'SRP-RSA-AES-128-CBC-SHA', 'SRP-AES-128-CBC-SHA', 'RSA-PSK-AES128-CBC-SHA256', 'DHE-PSK-AES128-CBC-SHA256', 'RSA-PSK-AES128-CBC-SHA', 'DHE-PSK-AES128-CBC-SHA', 'AES128-SHA', 'PSK-AES128-CBC-SHA256', 'PSK-AES128-CBC-SHA']\n"
     ]
    }
   ],
   "source": [
    "# Série 2 - Exercice 1 - Partie 2\n",
    "\n",
    "from OpenSSL import SSL, crypto\n",
    "import socket, certifi\n",
    "\n",
    "def dump_cert(cert):\n",
    "    for component in cert.get_subject().get_components():\n",
    "        print(\"Subject %s: %s\" % (component))\n",
    "             \n",
    "    print(\"notBefore:\", cert.get_notBefore())\n",
    "    print(\"notAfter:\", cert.get_notAfter())\n",
    "    print(\"version:\" + str(cert.get_version()))\n",
    "    print(\"sigAlg:\", cert.get_signature_algorithm())\n",
    "    print(\"digest:\", cert.digest('sha256'))\n",
    "    print(\"issuer:\", cert.get_issuer())\n",
    "    print()\n",
    "    \n",
    "def get_connection_chain(host, port = 443):\n",
    "    dst = (str.encode(host), port)\n",
    "    ctx = SSL.Context(SSL.SSLv23_METHOD)\n",
    "    s = socket.create_connection(dst)\n",
    "    s = SSL.Connection(ctx, s)\n",
    "    s.set_connect_state()\n",
    "    s.set_tlsext_host_name(dst[0])\n",
    "\n",
    "    s.sendall(b'HEAD / HTTP/1.0\\n\\n')\n",
    "    s.recv(16)\n",
    "    return (s, s.get_peer_cert_chain())\n",
    "\n",
    "def dump_chain(chain):\n",
    "    for pos, cert in enumerate(chain):\n",
    "        print(\"Certificate #\" + str(pos))\n",
    "        dump_cert(cert)\n",
    "        \n",
    "def dump_connection(conn):\n",
    "    print(\"Cipher name:\", conn.get_cipher_name())\n",
    "    print(\"Cipher size:\", conn.get_cipher_bits())\n",
    "    print(\"Cipher version:\", conn.get_cipher_version())\n",
    "    print(\"Cipher list:\", conn.get_cipher_list())\n",
    "\n",
    "conn, chain = get_connection_chain(\"google.ch\")\n",
    "dump_chain(chain)\n",
    "dump_connection(conn)"
   ]
  },
  {
   "cell_type": "markdown",
   "id": "8ad44ab3-5ef3-48c3-90fa-feef79f7a7f0",
   "metadata": {},
   "source": [
    "## 3. Application\n",
    "\n",
    "Pour la troisième partie, on va enfin aller chercher le certificat de base. Comme on a vu dans la partie 2, le certificat de base n'est pas envoyé par le site. Ca donne du sens, parce qu'on ne fait à priori pas confiance au site. Donc on ne va pas accepter un certificat qui vient de là.\n",
    "\n",
    "Il faut donc avoir une liste de certificats à qui on fait confiance. Cette liste réside sur votre ordinateur, et peut être récupérée avec ´certifi.where()´.\n",
    "\n",
    "Vous pouvez maintenant utiliser la méthode ´get_root_cert´ sur un des certificats précédents pour vous retourner la chaîne de certificats de base.\n",
    "\n",
    "Question:\n",
    "- pourquoi on donne seulement le dernier élément de la liste (`chain[-1]`)?\n",
    "- pourquoi on reçoit deux certificats à la fin?"
   ]
  },
  {
   "cell_type": "code",
   "execution_count": 2,
   "id": "377d336e",
   "metadata": {
    "button": false,
    "id": "-Fk-3jvpdEcq",
    "new_sheet": false,
    "run_control": {
     "read_only": false
    },
    "tags": []
   },
   "outputs": [
    {
     "name": "stdout",
     "output_type": "stream",
     "text": [
      "Certificate #0\n",
      "Subject b'C': b'US'\n",
      "Subject b'O': b'Google Trust Services LLC'\n",
      "Subject b'CN': b'GTS CA 1C3'\n",
      "notBefore: b'20200813000042Z'\n",
      "notAfter: b'20270930000042Z'\n",
      "version:2\n",
      "sigAlg: b'sha256WithRSAEncryption'\n",
      "digest: b'23:EC:B0:3E:EC:17:33:8C:4E:33:A6:B4:8A:41:DC:3C:DA:12:28:1B:BC:3F:F8:13:C0:58:9D:6C:C2:38:75:22'\n",
      "issuer: <X509Name object '/C=US/O=Google Trust Services LLC/CN=GTS Root R1'>\n",
      "\n",
      "Certificate #1\n",
      "Subject b'C': b'US'\n",
      "Subject b'O': b'Google Trust Services LLC'\n",
      "Subject b'CN': b'GTS Root R1'\n",
      "notBefore: b'20160622000000Z'\n",
      "notAfter: b'20360622000000Z'\n",
      "version:2\n",
      "sigAlg: b'sha384WithRSAEncryption'\n",
      "digest: b'2A:57:54:71:E3:13:40:BC:21:58:1C:BD:2C:F1:3E:15:84:63:20:3E:CE:94:BC:F9:D3:CC:19:6B:F0:9A:54:72'\n",
      "issuer: <X509Name object '/C=US/O=Google Trust Services LLC/CN=GTS Root R1'>\n",
      "\n"
     ]
    }
   ],
   "source": [
    "# Série 2 - Exercice 1 - Partie 3\n",
    "\n",
    "def get_root_chain(chain):\n",
    "    store = crypto.X509Store()\n",
    "    store.load_locations(certifi.where())\n",
    "    store_ctx = crypto.X509StoreContext(store, chain[-2])\n",
    "    return store_ctx.get_verified_chain()\n",
    "\n",
    "dump_chain(get_root_chain(chain))\n"
   ]
  },
  {
   "cell_type": "code",
   "execution_count": null,
   "id": "36c653fe-6ed3-426e-aaec-018b3c230ea5",
   "metadata": {},
   "outputs": [],
   "source": []
  }
 ],
 "metadata": {
  "colab": {
   "collapsed_sections": [],
   "name": "jour_2_série_3_exo_2.ipynb",
   "provenance": []
  },
  "kernelspec": {
   "display_name": "Python 3",
   "language": "python",
   "name": "python3"
  },
  "language_info": {
   "codemirror_mode": {
    "name": "ipython",
    "version": 3
   },
   "file_extension": ".py",
   "mimetype": "text/x-python",
   "name": "python",
   "nbconvert_exporter": "python",
   "pygments_lexer": "ipython3",
   "version": "3.9.6"
  }
 },
 "nbformat": 4,
 "nbformat_minor": 5
}
