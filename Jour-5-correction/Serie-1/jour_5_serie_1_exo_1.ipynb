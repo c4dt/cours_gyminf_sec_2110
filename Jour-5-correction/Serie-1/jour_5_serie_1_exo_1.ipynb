{
 "cells": [
  {
   "cell_type": "markdown",
   "id": "85bcd0df",
   "metadata": {
    "button": false,
    "id": "OJkcQuONXhj4",
    "new_sheet": false,
    "run_control": {
     "read_only": false
    }
   },
   "source": [
    "# Série 1\n",
    "\n",
    "Ceci est une série d'exercices sur les calculs homomorphiques en utilisant des courbes elliptiques."
   ]
  },
  {
   "cell_type": "markdown",
   "id": "3a8b258a",
   "metadata": {
    "button": false,
    "id": "xc0a_EOTck4x",
    "new_sheet": false,
    "run_control": {
     "read_only": false
    }
   },
   "source": [
    "# Exercice 1\n",
    "\n",
    "On va commencer par deux classes qui vont nous permettre de plonger un peu dans le merveilleux\n",
    "monde des courbes elliptiques:\n",
    "\n",
    "- `Scalar` - qui représente un scalaire. Il est souvent associé à la clé privée\n",
    "- `Point` - qui représente un point sur la courbe. Le plus souvent associé à la clé publique\n",
    "\n",
    "Ces deux classes vont nous permettre de faire les opérations nécessaires pour faire de la cryptographie\n",
    "homomorphique.\n",
    "\n",
    "## 1. Connaissance\n",
    "\n",
    "On va simplement faire quelques calculs avec les points. \n",
    "En interne la classe fait les pas nécessaires pour passer d'un nombre entier à un scalaire, puis pour créer un point.\n",
    "\n",
    "Suivez les points suivants dans le fichier ecc.py et notez les methodes utilisées:\n",
    "- set_int de la classe Point\n",
    "- get_int de la classe Point\n",
    "\n",
    "Vous pouvez aussi essayer quelques exemples vous-mêmes.\n",
    "\n",
    "** Questions **\n",
    "\n",
    "1. Que se passe-t-il si on additionne 250 + 250 et qu'on veut montrer le résultat avec get_int? Pourquoi? \n",
    "2. Comment pouvez-vous changer ceci?"
   ]
  },
  {
   "cell_type": "code",
   "execution_count": null,
   "id": "aec582c8",
   "metadata": {
    "button": false,
    "colab": {
     "base_uri": "https://localhost:8080/",
     "height": 368
    },
    "executionInfo": {
     "elapsed": 2479,
     "status": "error",
     "timestamp": 1620330981935,
     "user": {
      "displayName": "linus gasser",
      "photoUrl": "https://lh3.googleusercontent.com/a-/AOh14GiT9d_hiiZE9FHyx2dphb24xe4f0737HSVlpv54=s64",
      "userId": "10501199511424753986"
     },
     "user_tz": -120
    },
    "id": "4qOznnPDckVh",
    "jupyter": {
     "outputs_hidden": false
    },
    "new_sheet": false,
    "outputId": "5d83ac62-f84e-405a-8990-2414a9d0e570",
    "run_control": {
     "read_only": false
    }
   },
   "outputs": [],
   "source": [
    "from ecc import Point, Scalar\n",
    "\n",
    "a = Point().set_int(10)\n",
    "for i in range(21):\n",
    "    b = Point().set_int(i)\n",
    "    print(\"10 -\", i, \"is\", a.sub(b).get_int())\n",
    "    \n",
    "c = Point().set_int(250)\n",
    "print(c.add(c).get_int())"
   ]
  },
  {
   "cell_type": "markdown",
   "id": "a4288016-3d1e-4bc5-a22a-e9e8972fdbdf",
   "metadata": {},
   "source": [
    "### Réponses\n",
    "\n",
    "1. Si on additionne 250 et 250, on reçoit un `ValueError`. Ceci est dû au fait que la\n",
    "  méthode `get_int` ne cherche que les valeurs -499 à 499.\n",
    "2. Pour palier à cette limite, on peut changer la valeur dans `ecc.py`, dans la classe `Point`,   dans la méthode `get_int`.\n",
    "  Attention: pour activer les changements, il faut recharger le *Kernel* de Jupyter."
   ]
  },
  {
   "cell_type": "markdown",
   "id": "8f0e716c-6369-4b79-91d6-e4136b7eecb7",
   "metadata": {},
   "source": [
    "## 2. Compréhension\n",
    "\n",
    "Maintenant que nous avons les classes Point et Scalar, on peut les utiliser pour implémenter le chiffrement et\n",
    "déchiffrement El Gamal.\n",
    "\n",
    "Dans le code suivant, la class `ElGamal` peut être initialisé avec la méthode statique `ElGamal.encrypt`.\n",
    "Une fois qu'on a un objet ElGamal, on peut appeler les méthodes `decrypt` pour retrouver le message original,\n",
    "et `add` pour ajouter deux objets ElGamal d'une façon homomorphique.\n",
    "\n",
    "Dans l'exemple ici, on fait\n",
    "1. Créer une pair de clés privé/publique\n",
    "2. Créer un message \"123\" et le chiffrer\n",
    "3. Déchiffrer le message et afficher le contenu\n",
    "\n",
    "A vous de jouer:\n",
    "- créer un deuxième message \"234\" et le chiffrer avec la même clé publique que le premier\n",
    "- additionner les deux messages\n",
    "- les dechiffrer\n",
    "- afficher le résultat\n",
    "\n",
    "Essayez de faire un troisième message \"345\" et l'ajoutez aux deux premiers.\n",
    "- Qu'est-ce que vous observez? Pourquoi?"
   ]
  },
  {
   "cell_type": "code",
   "execution_count": null,
   "id": "45919aa3",
   "metadata": {
    "button": false,
    "id": "9HYfk1lTc7Hp",
    "new_sheet": false,
    "run_control": {
     "read_only": false
    }
   },
   "outputs": [],
   "source": [
    "# Exercice 1 - Partie 2\n",
    "from __future__ import annotations\n",
    "\n",
    "class ElGamal:\n",
    "    def __init__(self, C1: Point, C2: Point):\n",
    "        self.C1 = C1\n",
    "        self.C2 = C2\n",
    "\n",
    "    def decrypt(self, priv: Scalar) -> Point:\n",
    "        S = self.C1.scalarmult(priv)\n",
    "        M = self.C2.sub(S)\n",
    "        return M\n",
    "    \n",
    "    def add(self, other: ElGamal) -> ElGamal:\n",
    "        return ElGamal(self.C1.add(other.C1), self.C2.add(other.C2))\n",
    "\n",
    "    @staticmethod\n",
    "    def encrypt(pub: Point, msg: Point) -> ElGamal:\n",
    "        y = Scalar().rnd()\n",
    "        C1 = Point.scalarmult_base(y)\n",
    "        S = pub.scalarmult(y)\n",
    "        C2 = msg.add(S)\n",
    "        return ElGamal(C1, C2)\n",
    "    \n",
    "# Create random private key\n",
    "priv = Scalar().rnd()\n",
    "# Calculate the corresponding public key by multiplying with the base point\n",
    "pub = Point.scalarmult_base(priv)\n",
    "\n",
    "# Encrypt the message \"123\"\n",
    "msg1 = Point().set_int(123)\n",
    "eg = ElGamal.encrypt(pub, msg1)\n",
    "\n",
    "# Decrypt the message and read the point\n",
    "msg1p = eg.decrypt(priv)\n",
    "print(\"Message is:\", msg1p.get_int())\n",
    "\n",
    "# Encrypt a second message \"234\"\n",
    "msg2 = Point().set_int(234)\n",
    "eg2 = ElGamal.encrypt(pub, msg2)\n",
    "eg12 = eg.add(eg2)\n",
    "\n",
    "# Decrypt the message and read the point\n",
    "print(\"Result of message 1 + 2 is:\", eg12.decrypt(priv).get_int())\n",
    "\n",
    "# Encrypt a third message \"345\"\n",
    "eg3 = ElGamal.encrypt(pub, Point().set_int(234))\n",
    "eg123 = eg.add(eg2).add(eg3)\n",
    "\n",
    "# Decrypt the message and read the point\n",
    "print(\"Result of messages 1 + 2 + 3 is:\", eg123.decrypt(priv).get_int())"
   ]
  },
  {
   "cell_type": "markdown",
   "id": "177d53fd-3956-4706-9125-ccd8cabd4f84",
   "metadata": {},
   "source": [
    "### Réponse\n",
    "\n",
    "On rencontre le même problème qu'avant: le nombre final est trop élevé, et donc la méthode `get_int` ne peut pas le décoder."
   ]
  },
  {
   "cell_type": "markdown",
   "id": "37dc88b7-515a-494e-a977-19743f4c9447",
   "metadata": {},
   "source": [
    "## 3. Application\n",
    "\n",
    "Finalement on peut s'attaquer à un système décentralisé. On va faire simple:\n",
    "\n",
    "- deux nœuds avec chacun sa clé privée / publique\n",
    "- deux messages, 77 et -34, qui seront chiffrés et additionnés\n",
    "\n",
    "Dans le code en bas il y a les commentaires pour les différentes étapes à faire."
   ]
  },
  {
   "cell_type": "code",
   "execution_count": null,
   "id": "377d336e",
   "metadata": {
    "button": false,
    "id": "-Fk-3jvpdEcq",
    "new_sheet": false,
    "run_control": {
     "read_only": false
    },
    "tags": []
   },
   "outputs": [],
   "source": [
    "# Exercice 1 - Partie 3\n",
    "\n",
    "# créer deux pairs de clés privées / publique (priv1, priv2, pub1, pub2)\n",
    "\n",
    "# First hospital\n",
    "priv1 = Scalar().rnd()\n",
    "pub1 = Point.scalarmult_base(priv1)\n",
    "\n",
    "# Second hospital\n",
    "priv2 = Scalar().rnd()\n",
    "pub2 = Point.scalarmult_base(priv2)\n",
    "\n",
    "# calculer la clé publique agrégée (pub), sans passer par les clés privées!\n",
    "pub_agg = pub1.add(pub2)\n",
    "\n",
    "#   vous pouvez utiliser les clés privées pour vérifier que c'est juste, \n",
    "#   mais dans un vrai système on ne va seulement utiliser les clés publiques\n",
    "pub_agg_from_private = Point.scalarmult_base(priv1.add(priv2))\n",
    "print(\"Are the public keys the same?\", pub_agg.hex() == pub_agg_from_private.hex())\n",
    "\n",
    "# chiffrer deux messages (77, -34) avec la clé publique agrégée pour obtenir \n",
    "msg1 = Point().set_int(77)\n",
    "eg1 = ElGamal.encrypt(pub_agg, msg1)\n",
    "\n",
    "msg2 = Point().set_int(-35)\n",
    "eg2 = ElGamal.encrypt(pub_agg, msg2)\n",
    "\n",
    "# additionner les deux messages\n",
    "eg_tot = eg1.add(eg2)\n",
    "\n",
    "# calculer la participation au déchiffrement de la clé priv1\n",
    "d1 = eg_tot.C1.scalarmult(priv1)\n",
    "\n",
    "# calculer la participation au déchiffrement de la clé priv2\n",
    "d2 = eg_tot.C1.scalarmult(priv2)\n",
    "\n",
    "# calculer manuellement le déchiffrement finale en utilisant les deux participations\n",
    "#   alternativement vous pouvez ajouter une nouvelle méthode à ElGamal qui fait le déchiffrement\n",
    "#   partielle, C_2 = C_2 - C_1 · x_i\n",
    "#   après l'application de la clé privée 1 et la clé privée 2, C_2 contient le message\n",
    "d_tot = d1.add(d2)\n",
    "point_tot = eg_tot.C2.sub(d_tot)\n",
    "\n",
    "# afficher le résultat\n",
    "print(\"The final result is:\", point_tot.get_int())"
   ]
  }
 ],
 "metadata": {
  "colab": {
   "collapsed_sections": [],
   "name": "jour_2_série_3_exo_2.ipynb",
   "provenance": []
  },
  "kernelspec": {
   "display_name": "Python 3",
   "language": "python",
   "name": "python3"
  },
  "language_info": {
   "codemirror_mode": {
    "name": "ipython",
    "version": 3
   },
   "file_extension": ".py",
   "mimetype": "text/x-python",
   "name": "python",
   "nbconvert_exporter": "python",
   "pygments_lexer": "ipython3",
   "version": "3.9.6"
  }
 },
 "nbformat": 4,
 "nbformat_minor": 5
}
