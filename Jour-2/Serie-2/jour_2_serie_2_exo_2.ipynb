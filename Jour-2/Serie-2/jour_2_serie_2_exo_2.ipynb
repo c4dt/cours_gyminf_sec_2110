{
 "cells": [
  {
   "cell_type": "markdown",
   "id": "f3e17556",
   "metadata": {
    "button": false,
    "deletable": true,
    "id": "OJkcQuONXhj4",
    "new_sheet": false,
    "run_control": {
     "read_only": false
    }
   },
   "source": [
    "# Série 2\n",
    "\n",
    "Maintenant que vous connaisez un peu le Jupyter, ça devrait être plus simple.\n",
    "Dans cette série, nous allons découvrir les functions de hachage.\n",
    "On va d'abord faire quelques essais avec des functions de hacahge peu performant, pour voire comment on peut les attaquer.\n",
    "Ensuite on va passer aux *vraies* functions de hachage, et voir que les attaques sont beaucoup plus difficiles que ça."
   ]
  },
  {
   "cell_type": "markdown",
   "id": "5dd2fd23",
   "metadata": {
    "button": false,
    "deletable": true,
    "id": "pCYLwa2lXhj-",
    "new_sheet": false,
    "run_control": {
     "read_only": false
    }
   },
   "source": [
    "# Exercice 2\n",
    "\n",
    "On va maintenant s'intéresser à une vraie fonction de hachage, le `sha-256`. Cette fonction a été testé, a été attaqué en vain, et est utilisé partout dans le monde. On va donc considérer que c'est une fonction de hachage cryptographique.\n",
    "\n",
    "Néanmoins, même si on prend une chose quasi-parfaite, en l'utilisant d'une manière inadéquate, on peut quand même se tromper. Ici on verra quelques exemples.\n",
    "\n",
    "Ici on suppose qu'un serveur a stocké les hachage des mots de passe de ses utilisateurs. On va voir comment un hacker peut récupérer les mots de passe, même si théoriquement c'est impossible.\n",
    "\n",
    "## 1. Connaissance\n",
    "\n",
    "Si vous faites tourner le block pour la partie 1, vous verrez que le hachage `sha256` retourne une valeur beaucoup plus longue que notre fonction simple. En plus, la valeur retournée par le `sha256` a une longueure constante. Mais tout ceci ne nous aide pas si on ne fait pas attention.\n",
    "\n",
    "Une autre chose intéressante est l'utilisation de la fonction `sha256`. Ligne par ligne, la chose suivante se passe:\n",
    "\n",
    "- `sha = sha256()` crée un objet qui permet d'utiliser le hachage\n",
    "- `sha.update(phrase.encode())` fournit la phrase à notre nouvel objet. Une phrase en informatique peut être écrite de différente manière, alors ici on doit spécifier qu'on suppose la plus simple avec `encode()`. Un autre point intéressant est le fait que le `update` peut être appelé plusieurs fois. Mais on ne va pas le faire ici.\n",
    "- `sha.hexdigest()` finalise le hachage et fournit le résultat final dans un joli texte [hexadécimal](https://fr.wikipedia.org/wiki/Syst%C3%A8me_hexad%C3%A9cimal)\n",
    "\n",
    "Changez les phrases et prenez soin de bien vérifier qu'un tout petit changement de la phrase change complètement le résultat du hachage.\n",
    "\n",
    "## 2. Compréhension\n",
    "\n",
    "Supposons que le serveur ait stocké le hachage suivant pour un mot de passe:\n",
    "\n",
    "    88ec4a1bbddb2ac8442d6c5b443c4d5978b544362ead2590d19b8b1e7e27fea6\n",
    "\n",
    "à priori il est quasiment impossible de trouver quel est le mot de passe qui a généré ce hachage.\n",
    "Par contre si vous savez que c'est un mot de passe qui a été créé par une combinaison des mots suivants, c'est possible:\n",
    "\n",
    "    secret password nobody knows\n",
    "\n",
    "Essayez de \"cracker\" le mot de passe en testant la combinaison de ces quatre mots, jusqu'à trouver le mot de passe correcte.\n",
    "\n",
    "## 3. Application\n",
    "\n",
    "On va essayer d'écrire un petit cracker de mot de passe. Vu que c'est très lent, on va se limiter aux mots de passes suivants:\n",
    "\n",
    "- lettres minuscules a-z\n",
    "- longueur: 2\n",
    "\n",
    "complétez la fonction \"hack_pass\" pour trouver les mots de passe correspondant aux hachages suivants:\n",
    "\n",
    "    961b6dd3ede3cb8ecbaacbd68de040cd78eb2ed5889130cceb4c49268ea4d506\n",
    "    970f519c2cadbcefb1e81694f904bc6229dd2a8300e98c6d0d4fc4bfca584140\n",
    "    4a60bf7d4bc1e485744cf7e8d0860524752fca1ce42331be7c439fd23043f151\n",
    "    8fa1dddd53606ceb933c5c6a12e714ed41e11d37a2b7bc48e91d15b54171d033"
   ]
  },
  {
   "cell_type": "code",
   "execution_count": null,
   "id": "a8e4de6f",
   "metadata": {
    "button": false,
    "colab": {
     "base_uri": "https://localhost:8080/"
    },
    "collapsed": false,
    "deletable": true,
    "executionInfo": {
     "elapsed": 488,
     "status": "ok",
     "timestamp": 1620313257622,
     "user": {
      "displayName": "linus gasser",
      "photoUrl": "https://lh3.googleusercontent.com/a-/AOh14GiT9d_hiiZE9FHyx2dphb24xe4f0737HSVlpv54=s64",
      "userId": "10501199511424753986"
     },
     "user_tz": -120
    },
    "id": "MLMv46WTF9bE",
    "jupyter": {
     "outputs_hidden": false
    },
    "new_sheet": false,
    "outputId": "d63df9fc-5096-41c2-882c-a70ce06a4f33",
    "run_control": {
     "read_only": false
    }
   },
   "outputs": [],
   "source": [
    "# Exercice 2 - Partie 1\n",
    "\n",
    "from hashlib import sha256\n",
    "\n",
    "def sha256_str(phrase: str) -> str:\n",
    "  sha = sha256()\n",
    "  sha.update(phrase.encode())\n",
    "  return sha.hexdigest()\n",
    "\n",
    "def print_sha256(phrase: str) -> str:\n",
    "  print('sha256(\"{}\") is: {}'.format(phrase, sha256_str(phrase)))\n",
    "\n",
    "print_sha256(\"secret password\")\n",
    "print_sha256(\"nobody knows\")"
   ]
  },
  {
   "cell_type": "code",
   "execution_count": null,
   "id": "0b56f3c4",
   "metadata": {
    "button": false,
    "colab": {
     "base_uri": "https://localhost:8080/"
    },
    "collapsed": false,
    "deletable": true,
    "executionInfo": {
     "elapsed": 517,
     "status": "ok",
     "timestamp": 1620313146439,
     "user": {
      "displayName": "linus gasser",
      "photoUrl": "https://lh3.googleusercontent.com/a-/AOh14GiT9d_hiiZE9FHyx2dphb24xe4f0737HSVlpv54=s64",
      "userId": "10501199511424753986"
     },
     "user_tz": -120
    },
    "id": "CYxroBl8HBsc",
    "jupyter": {
     "outputs_hidden": false
    },
    "new_sheet": false,
    "outputId": "06af15bd-69ec-4532-b9c6-899fb371227a",
    "run_control": {
     "read_only": false
    }
   },
   "outputs": [],
   "source": [
    "# Exercice 2 - Partie 2\n",
    "\n",
    "def check_password(hash: str, password: str):\n",
    "  if sha256_str(password) == hash:\n",
    "    print(\"Please enter into our system\")\n",
    "  else:\n",
    "    print(\"Disappear evil hacker and never come back again\")\n",
    "\n",
    "check_password(\"88ec4a1bbddb2ac8442d6c5b443c4d5978b544362ead2590d19b8b1e7e27fea6\",\n",
    "               \"\")"
   ]
  },
  {
   "cell_type": "code",
   "execution_count": null,
   "id": "3b008221",
   "metadata": {
    "button": false,
    "colab": {
     "base_uri": "https://localhost:8080/"
    },
    "collapsed": false,
    "deletable": true,
    "executionInfo": {
     "elapsed": 494,
     "status": "ok",
     "timestamp": 1620313273545,
     "user": {
      "displayName": "linus gasser",
      "photoUrl": "https://lh3.googleusercontent.com/a-/AOh14GiT9d_hiiZE9FHyx2dphb24xe4f0737HSVlpv54=s64",
      "userId": "10501199511424753986"
     },
     "user_tz": -120
    },
    "id": "DPymZDH0JhxV",
    "jupyter": {
     "outputs_hidden": false
    },
    "new_sheet": false,
    "outputId": "5325ce04-837e-4173-b626-d9a89f1bfb12",
    "run_control": {
     "read_only": false
    }
   },
   "outputs": [],
   "source": [
    "# Exercice 2 - Partie 3\n",
    "\n",
    "def verify_hack(hash: str):\n",
    "  check_password(hash, hack_pass(hash))\n",
    "\n",
    "def hack_pass(hash: str) -> str:\n",
    "  return \"\"\n",
    "\n",
    "verify_hack(\"961b6dd3ede3cb8ecbaacbd68de040cd78eb2ed5889130cceb4c49268ea4d506\")\n",
    "verify_hack(\"970f519c2cadbcefb1e81694f904bc6229dd2a8300e98c6d0d4fc4bfca584140\")\n",
    "verify_hack(\"4a60bf7d4bc1e485744cf7e8d0860524752fca1ce42331be7c439fd23043f151\")\n",
    "verify_hack(\"8fa1dddd53606ceb933c5c6a12e714ed41e11d37a2b7bc48e91d15b54171d033\")\n"
   ]
  }
 ],
 "metadata": {
  "colab": {
   "collapsed_sections": [],
   "name": "jour_2_série_2_exo_2.ipynb",
   "provenance": [
    {
     "file_id": "1M0njCvQjyYFIuPN-M4lY0aZEA1Gn-tdE",
     "timestamp": 1620311190684
    }
   ]
  },
  "kernelspec": {
   "display_name": "Python 3",
   "language": "python",
   "name": "python3"
  },
  "language_info": {
   "codemirror_mode": {
    "name": "ipython",
    "version": 3
   },
   "file_extension": ".py",
   "mimetype": "text/x-python",
   "name": "python",
   "nbconvert_exporter": "python",
   "pygments_lexer": "ipython3",
   "version": "3.9.4"
  }
 },
 "nbformat": 4,
 "nbformat_minor": 5
}
