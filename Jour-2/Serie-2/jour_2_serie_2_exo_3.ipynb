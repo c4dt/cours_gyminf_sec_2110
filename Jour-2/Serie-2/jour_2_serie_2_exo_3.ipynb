{
 "cells": [
  {
   "cell_type": "markdown",
   "id": "40ba23a9",
   "metadata": {
    "button": false,
    "deletable": true,
    "id": "OJkcQuONXhj4",
    "new_sheet": false,
    "run_control": {
     "read_only": false
    }
   },
   "source": [
    "# Série 2\n",
    "\n",
    "Maintenant que vous connaisez un peu le Jupyter, ça devrait être plus simple.\n",
    "Dans cette série, nous allons découvrir les functions de hachage.\n",
    "On va d'abord faire quelques essais avec des functions de hacahge peu performant, pour voire comment on peut les attaquer.\n",
    "Ensuite on va passer aux *vraies* functions de hachage, et voir que les attaques sont beaucoup plus difficiles que ça."
   ]
  },
  {
   "cell_type": "markdown",
   "id": "45c9664c",
   "metadata": {
    "button": false,
    "deletable": true,
    "id": "pCYLwa2lXhj-",
    "new_sheet": false,
    "run_control": {
     "read_only": false
    }
   },
   "source": [
    "# Exercice 3\n",
    "\n",
    "Dans ce troisième exercice on va voir comment un tableau peut faire une attaque beaucoup plus rapide, mais comment du sel peut faire que le tableau perd tous ses effets.\n",
    "\n",
    "## 1. Connaissance\n",
    "\n",
    "Dans la partie application de l'exercice 2 on a demandé de faire une fonction qui fait du \"brute force\" pour trouver un mot de passe. Ceci est en fait assez lent, vu qu'on doit faire tout le travail pour chaque nouveau mot de passe.\n",
    "\n",
    "Une version beaucoup plus rapide est le tableau précalculé. Il y a différentes version, les plus élaborées peuvent prendre un bon semestre pour bien les expliquer. Ici on va se contenter de calculer le tableau une fois, et puis de l'appliquer aux hachages qui vont suivre.\n",
    "\n",
    "Comme dans la partie 3 de l'exercice 2, on va se contenter de limiter les mots de passe, mais ici on les fait un peu plus long: cinq lettres minuscules de a-z. Pour des raisons de limitations de mybinder.org, la dernière lettre ne peut comporter que de a-j.\n",
    "\n",
    "La partie ingénieuse vient du fait que l'initialisation doit être calculé seulement une fois. Ici on n'a que 10 secondes pour la création, mais avec plus de lettres, ça peut prendre longtemps.\n",
    "\n",
    "Après on peut faire tourner la partie 1b pour cracker quelques mots de passe.\n",
    "\n",
    "## 2. Compréhension\n",
    "\n",
    "Pour éviter ce problème, pour chaque mot de passe on crée un `sel` qui n'est rien d'autre qu'une chaîne de lettres aléatoires. Ce sel permet de faire le travail du cracker beaucoup plus difficile.\n",
    "\n",
    "Lancez la partie 2 plusieurs fois, et vous verrez les choses suivantes:\n",
    "- le sel change à chaque fois\n",
    "- le hachage aussi change\n",
    "- la vérification du mot de passe réussit quand même\n",
    "\n",
    "Pour cet exercice, ajoutez une deuxième création de mot de passe avec sel, puis vérifiez que les deux hachages salés sont reconnus comme représentant le mot de passe.\n",
    "\n",
    "## 3. Application\n",
    "\n",
    "Maintenant vous pouvez essayer de craquer le mot de passe salé avec notre fonction de la partie 1:\n",
    "- créer une entrée de hachage avec sel pour un mot de passe avec 5 lettres\n",
    "- séparez le hachage d'avec le sel\n",
    "- essayez de récupérer le mot de passe en passant le hachage dans la fonction `crack_password`\n",
    "\n"
   ]
  },
  {
   "cell_type": "code",
   "execution_count": null,
   "id": "b47f4d1a",
   "metadata": {
    "button": false,
    "colab": {
     "base_uri": "https://localhost:8080/"
    },
    "collapsed": false,
    "deletable": true,
    "executionInfo": {
     "elapsed": 23890,
     "status": "ok",
     "timestamp": 1620314656152,
     "user": {
      "displayName": "linus gasser",
      "photoUrl": "https://lh3.googleusercontent.com/a-/AOh14GiT9d_hiiZE9FHyx2dphb24xe4f0737HSVlpv54=s64",
      "userId": "10501199511424753986"
     },
     "user_tz": -120
    },
    "id": "MLMv46WTF9bE",
    "jupyter": {
     "outputs_hidden": false
    },
    "new_sheet": false,
    "outputId": "0386f971-2a3a-4073-a3fc-8428754f34bb",
    "run_control": {
     "read_only": false
    }
   },
   "outputs": [],
   "source": [
    "# Exercice 2 - Partie 1a - Initialization - Run this only once!\n",
    "import string, time\n",
    "from hashlib import sha256\n",
    "\n",
    "# Returns the hexadecimal string of the sha256\n",
    "def sha256_str(phrase: str) -> str:\n",
    "  sha = sha256()\n",
    "  sha.update(phrase.encode())\n",
    "  return sha.hexdigest()\n",
    "\n",
    "# Pretty-prints a phrase and its sha256 representation\n",
    "def print_sha256(phrase: str) -> str:\n",
    "  print('sha256(\"{}\") is: {}'.format(phrase, sha256_str(phrase)))\n",
    "\n",
    "# Will contain all passwords and their hash\n",
    "password_table = {}\n",
    "\n",
    "def create_table():\n",
    "  for a in string.ascii_lowercase:\n",
    "    for b in string.ascii_lowercase:\n",
    "      for c in string.ascii_lowercase:\n",
    "        for d in string.ascii_lowercase:\n",
    "          for e in string.ascii_lowercase[0:10]:\n",
    "            pwd = a + b + c + d + e\n",
    "            password_table[sha256_str(pwd)] = pwd\n",
    "\n",
    "# Tries to look up the password in the table\n",
    "def crack_password(hash: str) -> str:\n",
    "  pwd = password_table.get(hash)\n",
    "  if pwd != None:\n",
    "    print('Found password \"{}\" corresponding to hash \"{}\"'.format(pwd, hash))\n",
    "  else:\n",
    "    print('Sorry, didn\\'t find password corresponding to hash \"{}\"'.format(hash))\n",
    "\n",
    "print(\"Creating table - please wait\")\n",
    "start = time.time()\n",
    "create_table()\n",
    "print(\"Creation of table finished. Time elapsed: {}\".format(time.time() - start))"
   ]
  },
  {
   "cell_type": "code",
   "execution_count": null,
   "id": "9bc0c138",
   "metadata": {
    "button": false,
    "colab": {
     "base_uri": "https://localhost:8080/"
    },
    "collapsed": false,
    "deletable": true,
    "executionInfo": {
     "elapsed": 670,
     "status": "ok",
     "timestamp": 1620314831007,
     "user": {
      "displayName": "linus gasser",
      "photoUrl": "https://lh3.googleusercontent.com/a-/AOh14GiT9d_hiiZE9FHyx2dphb24xe4f0737HSVlpv54=s64",
      "userId": "10501199511424753986"
     },
     "user_tz": -120
    },
    "id": "fWlyY-XtMkeY",
    "jupyter": {
     "outputs_hidden": false
    },
    "new_sheet": false,
    "outputId": "dbbf0dee-e3af-4cb6-b41b-b493d1eaab1a",
    "run_control": {
     "read_only": false
    }
   },
   "outputs": [],
   "source": [
    "# Exercice 2 - Partie 1b - Usage\n",
    "\n",
    "crack_password(\"ed968e840d10d2d313a870bc131a4e2c311d7ad09bdf32b3418147221f51a6e2\")\n",
    "crack_password(\"36bbe50ed96841d10443bcb670d6554f0a34b761be67ec9c4a8ad2c0c44ca42c\")\n",
    "# The following is zzzzz, which is not in the table!\n",
    "crack_password(\"68a55e5b1e43c67f4ef34065a86c4c583f532ae8e3cda7e36cc79b611802ac07\")\n",
    "crack_password(\"3bd8a5b54baf23f33a1ebe80a5b7339da4b4d0c2c4a6918d80f3b277ae5bdcfa\")\n"
   ]
  },
  {
   "cell_type": "code",
   "execution_count": null,
   "id": "25677948",
   "metadata": {
    "button": false,
    "colab": {
     "base_uri": "https://localhost:8080/"
    },
    "collapsed": false,
    "deletable": true,
    "executionInfo": {
     "elapsed": 510,
     "status": "ok",
     "timestamp": 1620315817841,
     "user": {
      "displayName": "linus gasser",
      "photoUrl": "https://lh3.googleusercontent.com/a-/AOh14GiT9d_hiiZE9FHyx2dphb24xe4f0737HSVlpv54=s64",
      "userId": "10501199511424753986"
     },
     "user_tz": -120
    },
    "id": "CYxroBl8HBsc",
    "jupyter": {
     "outputs_hidden": false
    },
    "new_sheet": false,
    "outputId": "be8a8908-82fd-449e-c495-8e9a8d38a13d",
    "run_control": {
     "read_only": false
    }
   },
   "outputs": [],
   "source": [
    "# Exercice 2 - Partie 2\n",
    "import random\n",
    "\n",
    "def salt(length: int) -> str:\n",
    "  return ''.join(random.choice(string.ascii_lowercase) for i in range(length))\n",
    "\n",
    "def create_salted_password(password: str) -> str:\n",
    "  pwd_salt = salt(8)\n",
    "  hash = sha256_str(pwd_salt + password)\n",
    "  return \"{}::{}\".format(pwd_salt, hash)\n",
    "\n",
    "def check_salted_password(salted_entry: str, password: str):\n",
    "  pwd_salt, hash = salted_entry.split(\"::\")\n",
    "  if hash == sha256_str(pwd_salt + password):\n",
    "    print(\"Success! Password matches\")\n",
    "  else:\n",
    "    print(\"Failed - bad hacker\")\n",
    "\n",
    "password_entry = create_salted_password(\"abcde\")\n",
    "print('Salted entry for password \"abcde\" is: {}'.format(password_entry))\n",
    "check_salted_password(password_entry, \"abcde\")\n"
   ]
  },
  {
   "cell_type": "code",
   "execution_count": null,
   "id": "c0159a6b",
   "metadata": {
    "button": false,
    "colab": {
     "base_uri": "https://localhost:8080/"
    },
    "collapsed": false,
    "deletable": true,
    "executionInfo": {
     "elapsed": 494,
     "status": "ok",
     "timestamp": 1620313273545,
     "user": {
      "displayName": "linus gasser",
      "photoUrl": "https://lh3.googleusercontent.com/a-/AOh14GiT9d_hiiZE9FHyx2dphb24xe4f0737HSVlpv54=s64",
      "userId": "10501199511424753986"
     },
     "user_tz": -120
    },
    "id": "DPymZDH0JhxV",
    "jupyter": {
     "outputs_hidden": false
    },
    "new_sheet": false,
    "outputId": "5325ce04-837e-4173-b626-d9a89f1bfb12",
    "run_control": {
     "read_only": false
    }
   },
   "outputs": [],
   "source": [
    "# Exercice 2 - Partie 3\n",
    "\n"
   ]
  }
 ],
 "metadata": {
  "colab": {
   "collapsed_sections": [],
   "name": "jour_2_série_2_exo_3.ipynb",
   "provenance": [
    {
     "file_id": "1TY8GFvwnWP4I_Uup9mr2MIBzsBRYF6iq",
     "timestamp": 1620313462826
    },
    {
     "file_id": "1M0njCvQjyYFIuPN-M4lY0aZEA1Gn-tdE",
     "timestamp": 1620311190684
    }
   ]
  },
  "kernelspec": {
   "display_name": "Python 3",
   "language": "python",
   "name": "python3"
  },
  "language_info": {
   "codemirror_mode": {
    "name": "ipython",
    "version": 3
   },
   "file_extension": ".py",
   "mimetype": "text/x-python",
   "name": "python",
   "nbconvert_exporter": "python",
   "pygments_lexer": "ipython3",
   "version": "3.9.4"
  }
 },
 "nbformat": 4,
 "nbformat_minor": 5
}
